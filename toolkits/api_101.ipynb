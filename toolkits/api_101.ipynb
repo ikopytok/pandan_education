{
 "cells": [
  {
   "cell_type": "markdown",
   "source": [
    "# Toolkit по API"
   ],
   "metadata": {
    "collapsed": false,
    "pycharm": {
     "name": "#%% md\n"
    }
   }
  },
  {
   "cell_type": "markdown",
   "source": [
    "## 1. API"
   ],
   "metadata": {
    "collapsed": false,
    "pycharm": {
     "name": "#%% md\n"
    }
   }
  },
  {
   "cell_type": "markdown",
   "source": [
    "Начнем разбираться с API. Если упрощать, то API (application programming interface) — это правила, по которым можно общаться с программой. Это способ стандартизации формата взаимодействия между разными сервисами, частями одного сервиса, сайта и т.п.\n",
    "\n",
    "Протокол API включает:\n",
    "- операции, которые можно выполнять с его помощью;\n",
    "- данные, которые поступают на вход;\n",
    "- данные, которые оказываются на выходе.\n",
    "\n",
    "Очень похоже на обычную функцию: передаем параметры запроса по установленному формату, получаем структурированный ответ. Подробнее почитать про API [можно тут](https://habr.com/ru/post/464261/)."
   ],
   "metadata": {
    "collapsed": false,
    "pycharm": {
     "name": "#%% md\n"
    }
   }
  },
  {
   "cell_type": "markdown",
   "source": [
    "### 1.1. Библиотека requests"
   ],
   "metadata": {
    "collapsed": false,
    "pycharm": {
     "name": "#%% md\n"
    }
   }
  },
  {
   "cell_type": "markdown",
   "source": [
    "Мы вызовем API для генерации ответов. Для начала работы с API нужно знать, по какому URL-адресу его вызывать. В нашем примере это https://yesno.wtf/api, и вот самый простой вызов API, с которого можно начать:"
   ],
   "metadata": {
    "collapsed": false,
    "pycharm": {
     "name": "#%% md\n"
    }
   }
  },
  {
   "cell_type": "code",
   "execution_count": 14,
   "outputs": [
    {
     "data": {
      "text/plain": "<Response [200]>"
     },
     "execution_count": 14,
     "metadata": {},
     "output_type": "execute_result"
    }
   ],
   "source": [
    "import requests\n",
    "result = requests.get(\"https://yesno.wtf/api\")\n",
    "result"
   ],
   "metadata": {
    "collapsed": false,
    "pycharm": {
     "name": "#%%\n"
    }
   }
  },
  {
   "cell_type": "markdown",
   "source": [
    "Импортируем библиотеку requests, а затем получаем данные по API. Мы еще не видим возвращенных данных, лишь результат запроса Response [200]. В терминах API такой результат означает, что всё прошло нормально. А вот, если бы мы получили что-то вроде Response [400], это бы означало, что запрос выполнился с ошибкой.\n",
    "\n",
    "Чтобы увидеть фактические данные, мы добавляем к имени переменной атрибут .text:"
   ],
   "metadata": {
    "collapsed": false,
    "pycharm": {
     "name": "#%% md\n"
    }
   }
  },
  {
   "cell_type": "code",
   "execution_count": 15,
   "outputs": [
    {
     "data": {
      "text/plain": "'{\"answer\":\"yes\",\"forced\":false,\"image\":\"https://yesno.wtf/assets/yes/6-304e564038051dab8a5aa43156cdc20d.gif\"}'"
     },
     "execution_count": 15,
     "metadata": {},
     "output_type": "execute_result"
    }
   ],
   "source": [
    "result.text"
   ],
   "metadata": {
    "collapsed": false,
    "pycharm": {
     "name": "#%%\n"
    }
   }
  },
  {
   "cell_type": "markdown",
   "source": [
    "В данном случае ответ \"yes\". Можно перейти по ссылке в поле image и посмотреть, какую гифку нам вернул API. Но сам ответ представляет собой обычную строку. Библиотека request позволяет также сразу преобразовывать ответ в лист со словарем. Для этого используется метод .json()"
   ],
   "metadata": {
    "collapsed": false,
    "pycharm": {
     "name": "#%% md\n"
    }
   }
  },
  {
   "cell_type": "code",
   "execution_count": 16,
   "outputs": [
    {
     "data": {
      "text/plain": "{'answer': 'yes',\n 'forced': False,\n 'image': 'https://yesno.wtf/assets/yes/6-304e564038051dab8a5aa43156cdc20d.gif'}"
     },
     "execution_count": 16,
     "metadata": {},
     "output_type": "execute_result"
    }
   ],
   "source": [
    "result.json()"
   ],
   "metadata": {
    "collapsed": false,
    "pycharm": {
     "name": "#%%\n"
    }
   }
  },
  {
   "cell_type": "markdown",
   "source": [
    "Итак, первый элемент данных, которые поступают на вход, — это базовый URL-адрес API. Например, у twitter он выглядит так: https://api.twitter.com/. В серьезных API-сервисах одного базового URL-адреса обычно не достаточно. Нужно передавать учетные данные, дополнительные параметры запроса. Все это должно быть описано в документации к API."
   ],
   "metadata": {
    "collapsed": false,
    "pycharm": {
     "name": "#%% md\n"
    }
   }
  },
  {
   "cell_type": "markdown",
   "source": [
    "Сделаем запрос к еще одному API-интерфейсу."
   ],
   "metadata": {
    "collapsed": false,
    "pycharm": {
     "name": "#%% md\n"
    }
   }
  },
  {
   "cell_type": "code",
   "execution_count": 17,
   "outputs": [
    {
     "data": {
      "text/plain": "'{\"message\":\"The Dog API\",\"version\":\"1.2.0\"}'"
     },
     "execution_count": 17,
     "metadata": {},
     "output_type": "execute_result"
    }
   ],
   "source": [
    "result = requests.get(\"https://api.thedogapi.com/\")\n",
    "result.text"
   ],
   "metadata": {
    "collapsed": false,
    "pycharm": {
     "name": "#%%\n"
    }
   }
  },
  {
   "cell_type": "markdown",
   "source": [
    "Мы вызвали базовый URL-адрес API и получили сообщение с общей информацией об API. Чтобы добраться до реальных данных, одного базового URL-адреса недостаточно. Нужно указать конечную точку. Это часть URL-адреса, которая ведет к конкретному ресурсу. Тут все аналогично обычным веб-сайтам. Можно открыть главную страницу, а можно закопаться внутрь сайта — URL-адрес будет расширяться. В [справочнике API](https://portal.thatapicompany.com/pages/dog-api), который мы сейчас рассматриваем, описаны такие конечные точки и ресурсы, до которых можно достучаться."
   ],
   "metadata": {
    "collapsed": false,
    "pycharm": {
     "name": "#%% md\n"
    }
   }
  },
  {
   "cell_type": "code",
   "execution_count": 18,
   "outputs": [
    {
     "data": {
      "text/plain": "'[{\"weight\":{\"imperial\":\"6 - 13\",\"metric\":\"3 - 6\"},\"height\":{\"imperial\":\"9 - 11.5\",\"metric\":\"23 - 29\"},\"id\":1,\"name\":\"Affenpinscher\",\"bred_for\":\"Small rodent hunting, lapdog\",\"breed_group\":\"Toy\",\"life_span\":\"10 - 12 years\",\"temperament\":\"Stubborn, Curious, Playful, Adventurous, Active, Fun-loving\",\"origin\":\"Germany, France\",\"reference_image_id\":\"BJa4kxc4X\",\"image\":{\"id\":\"BJa4kxc4X\",\"width\":1600,\"height\":1199,\"url\":\"https://cdn2.thedogapi.com/images/BJa4kxc4X.jpg\"}},{\"weight\":{\"imperial\":\"50 - 60\",\"metric\":\"23 - 27\"},\"height\":{\"imperial\":\"25 - 27\",\"metric\":\"64 - 69\"},\"id\":2,\"name\":\"Afghan Hound\",\"country_code\":\"AG\",\"bred_for\":\"Coursing and hunting\",\"breed_group\":\"Hound\",\"life_span\":\"10 - 13 years\",\"temperament\":\"Aloof, Clownish, Dignified, Independent, Happy\",\"origin\":\"Afghanistan, Iran, Pakistan\",\"reference_image_id\":\"hMyT4CDXR\",\"image\":{\"id\":\"hMyT4CDXR\",\"width\":606,\"height\":380,\"url\":\"https://cdn2.thedogapi.com/images/hMyT4CDXR.jpg\"}},{\"weight\":{\"imperial\":\"44 - 66\",\"metric\":\"20 - 30\"}'"
     },
     "execution_count": 18,
     "metadata": {},
     "output_type": "execute_result"
    }
   ],
   "source": [
    "result = requests.get(\"https://api.thedogapi.com/v1/breeds\")\n",
    "result.text[:1000]"
   ],
   "metadata": {
    "collapsed": false,
    "pycharm": {
     "name": "#%%\n"
    }
   }
  },
  {
   "cell_type": "markdown",
   "source": [
    "Мы получили информацию о породах собак. Еще в запросе API можно передавать отдельные параметры. Этими параметрами могут быть ключи для доступа к сервису API или значения фильтров, которые сужают поле поиска. Воспользуемся API https://randomuser.me/api/, который генерирует информацию о случайных интернет-пользователях. Допустим, наша аудитория — американские мужчины"
   ],
   "metadata": {
    "collapsed": false,
    "pycharm": {
     "name": "#%% md\n"
    }
   }
  },
  {
   "cell_type": "code",
   "execution_count": 19,
   "outputs": [
    {
     "data": {
      "text/plain": "{'results': [{'gender': 'male',\n   'name': {'title': 'Mr', 'first': 'Ramon', 'last': 'Holland'},\n   'location': {'street': {'number': 1509, 'name': 'Smokey Ln'},\n    'city': 'San Jose',\n    'state': 'Idaho',\n    'country': 'United States',\n    'postcode': 54205,\n    'coordinates': {'latitude': '70.0683', 'longitude': '99.7329'},\n    'timezone': {'offset': '-12:00', 'description': 'Eniwetok, Kwajalein'}},\n   'email': 'ramon.holland@example.com',\n   'login': {'uuid': '602cc37a-7213-403f-9ba9-f4db899686c3',\n    'username': 'sadmouse632',\n    'password': 'federal',\n    'salt': 'PCihnbp0',\n    'md5': '332e96fa211cf7ba984c79c40fb3ab53',\n    'sha1': 'a13ff877f3a50ed9e24c02c4373490bedfb520ec',\n    'sha256': 'f309503271f9fd43fb74eb92c92bedf24d095685c376348bb12efeaa29f2f407'},\n   'dob': {'date': '1998-06-20T18:16:33.497Z', 'age': 24},\n   'registered': {'date': '2007-10-15T19:35:37.696Z', 'age': 15},\n   'phone': '(755) 645-4823',\n   'cell': '(251) 803-6568',\n   'id': {'name': 'SSN', 'value': '590-38-5301'},\n   'picture': {'large': 'https://randomuser.me/api/portraits/men/81.jpg',\n    'medium': 'https://randomuser.me/api/portraits/med/men/81.jpg',\n    'thumbnail': 'https://randomuser.me/api/portraits/thumb/men/81.jpg'},\n   'nat': 'US'}],\n 'info': {'seed': '37538d1490dd0f6a',\n  'results': 1,\n  'page': 1,\n  'version': '1.4'}}"
     },
     "execution_count": 19,
     "metadata": {},
     "output_type": "execute_result"
    }
   ],
   "source": [
    "query_params = {\"gender\": \"male\", \"nat\": \"us\"}\n",
    "requests.get(\"https://randomuser.me/api/\", params=query_params).json()"
   ],
   "metadata": {
    "collapsed": false,
    "pycharm": {
     "name": "#%%\n"
    }
   }
  },
  {
   "cell_type": "markdown",
   "source": [
    "Параметры и их возможные значения должны быть описаны в документации. В данном случае мы передаем два параметра gender и nat со значениями 'male' и 'us', соответственно."
   ],
   "metadata": {
    "collapsed": false,
    "pycharm": {
     "name": "#%% md\n"
    }
   }
  },
  {
   "cell_type": "markdown",
   "source": [
    "Зачем нужен API в нашем проекте? Чтобы обогатить сведения об образовательных организациях. Например, добавить муниципалитет для школ, или их географические координаты. Для решения таких задач отлично подходит сервис Dadata."
   ],
   "metadata": {
    "collapsed": false,
    "pycharm": {
     "name": "#%% md\n"
    }
   }
  },
  {
   "cell_type": "markdown",
   "source": [
    "### 1.2. Dadata"
   ],
   "metadata": {
    "collapsed": false,
    "pycharm": {
     "name": "#%% md\n"
    }
   }
  },
  {
   "cell_type": "markdown",
   "source": [
    "[Dadata](dadata.ru) — сервис, с помощью которого можно автоматически обогащать информацию об организациях и адресах. Используются для этого ... API-интерфейсы! Все доступные методы API [собраны на этой странице](https://dadata.ru/api/). Рассмотрим метод **[Организация по ИНН или ОГРН](https://dadata.ru/api/find-party/)**. У Dadata есть специальная библиотека dadata для работы с API. Не забудьте ее установить."
   ],
   "metadata": {
    "collapsed": false,
    "pycharm": {
     "name": "#%% md\n"
    }
   }
  },
  {
   "cell_type": "markdown",
   "source": [
    "Чтобы начать работать с API Dadata нужно:\n",
    "- зарегистрироваться на сайте dadata.ru;\n",
    "- найти в личном кабинете API-ключ;\n",
    "\n",
    "*В личном кабинете есть еще секретный ключ. Секретный ключ дополнительно вас защищает, чтобы злоумышленник, подсмотрев API-ключ, не смог воспользоваться платными сервисами Dadata за вас счет. Мы будем пользоваться бесплатным лимитом, поэтому в дополнительных мерах предосторожности нет необходимости.*\n",
    "\n",
    "Для метода \"Организация по ИНН или ОГРН\" можно бесплатно отправлять 10 000 запросов в день. Статистику использования запросов можно посмотреть в личном кабинете."
   ],
   "metadata": {
    "collapsed": false,
    "pycharm": {
     "name": "#%% md\n"
    }
   }
  },
  {
   "cell_type": "code",
   "execution_count": 20,
   "outputs": [],
   "source": [
    "from dadata import Dadata #импортируем библиотеку Dadata\n",
    "from credentials import Credentials\n",
    "\n",
    "credentials = Credentials()\n",
    "token = credentials.token #Указываем ваш API-токен из личного кабинета\n",
    "#token = 'код API-токена из личного кабинета'\n",
    "\n",
    "dadata = Dadata(token)\n",
    "result = dadata.find_by_id(\"party\", query=\"7707083893\")"
   ],
   "metadata": {
    "collapsed": false,
    "pycharm": {
     "name": "#%%\n"
    }
   }
  },
  {
   "cell_type": "markdown",
   "source": [
    "В ячейке выше используется какая-то непонятная переменная credentials, из которой на втором шаге мы как будто достаем API-токен. Зачем такие сложности, если можно просто присвоить переменной token нужное значение из личного кабинета? Можно и просто присвоить. Но если вы потом поделитесь юпитер-ноутбуком с кем-то еще, то всем станет известен ваш API-токен. Это плохая практика. Не делайте так. Лучше не прописывать логины, пароли, токены прямо в скрипте.\n",
    "\n",
    "Есть разные способы, куда их можно спрятать. Например, можно положить в отдельный текстовый файл рядом с основным скриптом и читать пароли-явки из него. А можно поступить чуть сложнее и создать специальный объект Credentials, в котором будут храниться параметры аутентификации. При этом и текстовый файл, и специальный объект никому не передается.\n",
    "\n",
    "В репозитории github, откуда вы скачали этот ноубук, лежит небольшой файлик credential.py. Вам нужно его скачать в ту же папку, где лежит ноутбук. После этого скопируйте в значение self.token свой API-ключ. Если вам кажется, что это слишком сложно, то можно нарушить правила, и в ячейке выше просто указать token = 'значение вашего ключа' прямо в коде."
   ],
   "metadata": {
    "collapsed": false,
    "pycharm": {
     "name": "#%% md\n"
    }
   }
  },
  {
   "cell_type": "code",
   "execution_count": 21,
   "outputs": [
    {
     "data": {
      "text/plain": "{'value': 'ПАО СБЕРБАНК',\n 'unrestricted_value': 'ПАО СБЕРБАНК',\n 'data': {'kpp': '773601001',\n  'capital': None,\n  'invalid': None,\n  'management': {'name': 'Греф Герман Оскарович',\n   'post': 'ПРЕЗИДЕНТ, ПРЕДСЕДАТЕЛЬ ПРАВЛЕНИЯ',\n   'disqualified': None},\n  'founders': None,\n  'managers': None,\n  'predecessors': None,\n  'successors': None,\n  'branch_type': 'MAIN',\n  'branch_count': 86,\n  'source': None,\n  'qc': None,\n  'hid': '588a141bc5e17cbc976ec2d0d54149af49d5a4ca16e26ed2effafdf06841d645',\n  'type': 'LEGAL',\n  'state': {'status': 'ACTIVE',\n   'code': None,\n   'actuality_date': 1676332800000,\n   'registration_date': 677376000000,\n   'liquidation_date': None},\n  'opf': {'type': '2014',\n   'code': '12247',\n   'full': 'Публичное акционерное общество',\n   'short': 'ПАО'},\n  'name': {'full_with_opf': 'ПУБЛИЧНОЕ АКЦИОНЕРНОЕ ОБЩЕСТВО \"СБЕРБАНК РОССИИ\"',\n   'short_with_opf': 'ПАО СБЕРБАНК',\n   'latin': None,\n   'full': 'СБЕРБАНК РОССИИ',\n   'short': 'СБЕРБАНК'},\n  'inn': '7707083893',\n  'ogrn': '1027700132195',\n  'okpo': '00032537',\n  'okato': '45293554000',\n  'oktmo': '45397000000',\n  'okogu': '4100104',\n  'okfs': '41',\n  'okved': '64.19',\n  'okveds': None,\n  'authorities': None,\n  'documents': None,\n  'licenses': None,\n  'finance': None,\n  'address': {'value': 'г Москва, ул Вавилова, д 19',\n   'unrestricted_value': '117312, г Москва, Академический р-н, ул Вавилова, д 19',\n   'invalidity': None,\n   'data': {'postal_code': '117312',\n    'country': 'Россия',\n    'country_iso_code': 'RU',\n    'federal_district': 'Центральный',\n    'region_fias_id': '0c5b2444-70a0-4932-980c-b4dc0d3f02b5',\n    'region_kladr_id': '7700000000000',\n    'region_iso_code': 'RU-MOW',\n    'region_with_type': 'г Москва',\n    'region_type': 'г',\n    'region_type_full': 'город',\n    'region': 'Москва',\n    'area_fias_id': None,\n    'area_kladr_id': None,\n    'area_with_type': None,\n    'area_type': None,\n    'area_type_full': None,\n    'area': None,\n    'city_fias_id': '0c5b2444-70a0-4932-980c-b4dc0d3f02b5',\n    'city_kladr_id': '7700000000000',\n    'city_with_type': 'г Москва',\n    'city_type': 'г',\n    'city_type_full': 'город',\n    'city': 'Москва',\n    'city_area': 'Юго-западный',\n    'city_district_fias_id': None,\n    'city_district_kladr_id': None,\n    'city_district_with_type': 'Академический р-н',\n    'city_district_type': 'р-н',\n    'city_district_type_full': 'район',\n    'city_district': 'Академический',\n    'settlement_fias_id': None,\n    'settlement_kladr_id': None,\n    'settlement_with_type': None,\n    'settlement_type': None,\n    'settlement_type_full': None,\n    'settlement': None,\n    'street_fias_id': '25f8f29b-b110-40ab-a48e-9c72f5fb4331',\n    'street_kladr_id': '77000000000092400',\n    'street_with_type': 'ул Вавилова',\n    'street_type': 'ул',\n    'street_type_full': 'улица',\n    'street': 'Вавилова',\n    'stead_fias_id': None,\n    'stead_cadnum': None,\n    'stead_type': None,\n    'stead_type_full': None,\n    'stead': None,\n    'house_fias_id': '93409d8c-d8d4-4491-838f-f9aa1678b5e6',\n    'house_kladr_id': '7700000000009240170',\n    'house_cadnum': '77:06:0002008:1036',\n    'house_type': 'д',\n    'house_type_full': 'дом',\n    'house': '19',\n    'block_type': None,\n    'block_type_full': None,\n    'block': None,\n    'entrance': None,\n    'floor': None,\n    'flat_fias_id': None,\n    'flat_cadnum': None,\n    'flat_type': None,\n    'flat_type_full': None,\n    'flat': None,\n    'flat_area': None,\n    'square_meter_price': None,\n    'flat_price': None,\n    'room_fias_id': None,\n    'room_cadnum': None,\n    'room_type': None,\n    'room_type_full': None,\n    'room': None,\n    'postal_box': None,\n    'fias_id': '93409d8c-d8d4-4491-838f-f9aa1678b5e6',\n    'fias_code': '77000000000000009240170',\n    'fias_level': '8',\n    'fias_actuality_state': '0',\n    'kladr_id': '7700000000009240170',\n    'geoname_id': '524901',\n    'capital_marker': '0',\n    'okato': '45293554000',\n    'oktmo': '45397000',\n    'tax_office': '7736',\n    'tax_office_legal': '7736',\n    'timezone': 'UTC+3',\n    'geo_lat': '55.7001865',\n    'geo_lon': '37.5802234',\n    'beltway_hit': 'IN_MKAD',\n    'beltway_distance': None,\n    'metro': [{'name': 'Ленинский проспект',\n      'line': 'Калужско-Рижская',\n      'distance': 0.8},\n     {'name': 'Площадь Гагарина', 'line': 'МЦК', 'distance': 0.8},\n     {'name': 'Академическая', 'line': 'Калужско-Рижская', 'distance': 1.5}],\n    'divisions': None,\n    'qc_geo': '0',\n    'qc_complete': None,\n    'qc_house': None,\n    'history_values': None,\n    'unparsed_parts': None,\n    'source': '117312, Г.Москва, УЛ. ВАВИЛОВА, Д.19',\n    'qc': '0'}},\n  'phones': None,\n  'emails': None,\n  'ogrn_date': 1029456000000,\n  'okved_type': '2014',\n  'employee_count': None}}"
     },
     "execution_count": 21,
     "metadata": {},
     "output_type": "execute_result"
    }
   ],
   "source": [
    "result[0]"
   ],
   "metadata": {
    "collapsed": false,
    "pycharm": {
     "name": "#%%\n"
    }
   }
  },
  {
   "cell_type": "markdown",
   "source": [
    "Если посмотреть, что представляет собой result, то окажется, что это словарь завернутый в лист. Почему лист? Потом что метод \"Организация по ИНН или ОГРН\" так устроен, что в случае неопределенности он вернет несколько подходящих результатов. Первый вариант будет хранится в первом элементе листа, второй - во втором и т.д. Почему словарь внутри листа? Потому что так удобнее организовать хранение данных. Внутри словаря хранится разная информация в соответствии со структурой ответа API, [описанной в разделе \"Что в ответе\"](https://dadata.ru/api/find-party/). Давайте попробуем посмотреть, какая организация соответствует коду ИНН 7707083893, который мы передавали в запросе."
   ],
   "metadata": {
    "collapsed": false,
    "pycharm": {
     "name": "#%% md\n"
    }
   }
  },
  {
   "cell_type": "code",
   "execution_count": 22,
   "outputs": [
    {
     "data": {
      "text/plain": "'ПАО СБЕРБАНК'"
     },
     "execution_count": 22,
     "metadata": {},
     "output_type": "execute_result"
    }
   ],
   "source": [
    "result[0]['value']"
   ],
   "metadata": {
    "collapsed": false,
    "pycharm": {
     "name": "#%%\n"
    }
   }
  },
  {
   "cell_type": "code",
   "execution_count": 23,
   "outputs": [
    {
     "data": {
      "text/plain": "'БАЙКАЛЬСКИЙ БАНК ПАО СБЕРБАНК'"
     },
     "execution_count": 23,
     "metadata": {},
     "output_type": "execute_result"
    }
   ],
   "source": [
    "result[1]['value']"
   ],
   "metadata": {
    "collapsed": false,
    "pycharm": {
     "name": "#%%\n"
    }
   }
  },
  {
   "cell_type": "markdown",
   "source": [
    "Тут мы обращаемся к первому (т.е. нулевому для python) элементу листа result и просим показать, какое значение хранится по ключу value. В ответ получаем значение 'ПАО СБЕРБАНК'. Допустим, теперь нам нужно узнать ОКТМО муниципального образования, в котором расположен головной офис Сбербанка. [Смотрим в документацию к API](https://dadata.ru/api/find-party/) — ОКТМО хранится в словаре, который доступен по ключу data."
   ],
   "metadata": {
    "collapsed": false,
    "pycharm": {
     "name": "#%% md\n"
    }
   }
  },
  {
   "cell_type": "code",
   "execution_count": 24,
   "outputs": [
    {
     "data": {
      "text/plain": "{'kpp': '773601001',\n 'capital': None,\n 'invalid': None,\n 'management': {'name': 'Греф Герман Оскарович',\n  'post': 'ПРЕЗИДЕНТ, ПРЕДСЕДАТЕЛЬ ПРАВЛЕНИЯ',\n  'disqualified': None},\n 'founders': None,\n 'managers': None,\n 'predecessors': None,\n 'successors': None,\n 'branch_type': 'MAIN',\n 'branch_count': 86,\n 'source': None,\n 'qc': None,\n 'hid': '588a141bc5e17cbc976ec2d0d54149af49d5a4ca16e26ed2effafdf06841d645',\n 'type': 'LEGAL',\n 'state': {'status': 'ACTIVE',\n  'code': None,\n  'actuality_date': 1676332800000,\n  'registration_date': 677376000000,\n  'liquidation_date': None},\n 'opf': {'type': '2014',\n  'code': '12247',\n  'full': 'Публичное акционерное общество',\n  'short': 'ПАО'},\n 'name': {'full_with_opf': 'ПУБЛИЧНОЕ АКЦИОНЕРНОЕ ОБЩЕСТВО \"СБЕРБАНК РОССИИ\"',\n  'short_with_opf': 'ПАО СБЕРБАНК',\n  'latin': None,\n  'full': 'СБЕРБАНК РОССИИ',\n  'short': 'СБЕРБАНК'},\n 'inn': '7707083893',\n 'ogrn': '1027700132195',\n 'okpo': '00032537',\n 'okato': '45293554000',\n 'oktmo': '45397000000',\n 'okogu': '4100104',\n 'okfs': '41',\n 'okved': '64.19',\n 'okveds': None,\n 'authorities': None,\n 'documents': None,\n 'licenses': None,\n 'finance': None,\n 'address': {'value': 'г Москва, ул Вавилова, д 19',\n  'unrestricted_value': '117312, г Москва, Академический р-н, ул Вавилова, д 19',\n  'invalidity': None,\n  'data': {'postal_code': '117312',\n   'country': 'Россия',\n   'country_iso_code': 'RU',\n   'federal_district': 'Центральный',\n   'region_fias_id': '0c5b2444-70a0-4932-980c-b4dc0d3f02b5',\n   'region_kladr_id': '7700000000000',\n   'region_iso_code': 'RU-MOW',\n   'region_with_type': 'г Москва',\n   'region_type': 'г',\n   'region_type_full': 'город',\n   'region': 'Москва',\n   'area_fias_id': None,\n   'area_kladr_id': None,\n   'area_with_type': None,\n   'area_type': None,\n   'area_type_full': None,\n   'area': None,\n   'city_fias_id': '0c5b2444-70a0-4932-980c-b4dc0d3f02b5',\n   'city_kladr_id': '7700000000000',\n   'city_with_type': 'г Москва',\n   'city_type': 'г',\n   'city_type_full': 'город',\n   'city': 'Москва',\n   'city_area': 'Юго-западный',\n   'city_district_fias_id': None,\n   'city_district_kladr_id': None,\n   'city_district_with_type': 'Академический р-н',\n   'city_district_type': 'р-н',\n   'city_district_type_full': 'район',\n   'city_district': 'Академический',\n   'settlement_fias_id': None,\n   'settlement_kladr_id': None,\n   'settlement_with_type': None,\n   'settlement_type': None,\n   'settlement_type_full': None,\n   'settlement': None,\n   'street_fias_id': '25f8f29b-b110-40ab-a48e-9c72f5fb4331',\n   'street_kladr_id': '77000000000092400',\n   'street_with_type': 'ул Вавилова',\n   'street_type': 'ул',\n   'street_type_full': 'улица',\n   'street': 'Вавилова',\n   'stead_fias_id': None,\n   'stead_cadnum': None,\n   'stead_type': None,\n   'stead_type_full': None,\n   'stead': None,\n   'house_fias_id': '93409d8c-d8d4-4491-838f-f9aa1678b5e6',\n   'house_kladr_id': '7700000000009240170',\n   'house_cadnum': '77:06:0002008:1036',\n   'house_type': 'д',\n   'house_type_full': 'дом',\n   'house': '19',\n   'block_type': None,\n   'block_type_full': None,\n   'block': None,\n   'entrance': None,\n   'floor': None,\n   'flat_fias_id': None,\n   'flat_cadnum': None,\n   'flat_type': None,\n   'flat_type_full': None,\n   'flat': None,\n   'flat_area': None,\n   'square_meter_price': None,\n   'flat_price': None,\n   'room_fias_id': None,\n   'room_cadnum': None,\n   'room_type': None,\n   'room_type_full': None,\n   'room': None,\n   'postal_box': None,\n   'fias_id': '93409d8c-d8d4-4491-838f-f9aa1678b5e6',\n   'fias_code': '77000000000000009240170',\n   'fias_level': '8',\n   'fias_actuality_state': '0',\n   'kladr_id': '7700000000009240170',\n   'geoname_id': '524901',\n   'capital_marker': '0',\n   'okato': '45293554000',\n   'oktmo': '45397000',\n   'tax_office': '7736',\n   'tax_office_legal': '7736',\n   'timezone': 'UTC+3',\n   'geo_lat': '55.7001865',\n   'geo_lon': '37.5802234',\n   'beltway_hit': 'IN_MKAD',\n   'beltway_distance': None,\n   'metro': [{'name': 'Ленинский проспект',\n     'line': 'Калужско-Рижская',\n     'distance': 0.8},\n    {'name': 'Площадь Гагарина', 'line': 'МЦК', 'distance': 0.8},\n    {'name': 'Академическая', 'line': 'Калужско-Рижская', 'distance': 1.5}],\n   'divisions': None,\n   'qc_geo': '0',\n   'qc_complete': None,\n   'qc_house': None,\n   'history_values': None,\n   'unparsed_parts': None,\n   'source': '117312, Г.Москва, УЛ. ВАВИЛОВА, Д.19',\n   'qc': '0'}},\n 'phones': None,\n 'emails': None,\n 'ogrn_date': 1029456000000,\n 'okved_type': '2014',\n 'employee_count': None}"
     },
     "execution_count": 24,
     "metadata": {},
     "output_type": "execute_result"
    }
   ],
   "source": [
    "result[0]['data']"
   ],
   "metadata": {
    "collapsed": false,
    "pycharm": {
     "name": "#%%\n"
    }
   }
  },
  {
   "cell_type": "markdown",
   "source": [
    "Чтобы вытащить из этого словаря сам код ОКТМО, нужно использовать ключ oktmo."
   ],
   "metadata": {
    "collapsed": false,
    "pycharm": {
     "name": "#%% md\n"
    }
   }
  },
  {
   "cell_type": "code",
   "execution_count": 25,
   "outputs": [
    {
     "data": {
      "text/plain": "'45397000000'"
     },
     "execution_count": 25,
     "metadata": {},
     "output_type": "execute_result"
    }
   ],
   "source": [
    "result[0]['data']['oktmo']"
   ],
   "metadata": {
    "collapsed": false,
    "pycharm": {
     "name": "#%%\n"
    }
   }
  },
  {
   "cell_type": "markdown",
   "source": [
    "Получаем значение '453970000000'. Это муниципальный округ Академический Москвы. Там расположен головной офис Сбербанка. А что если мы хотим вытащить почтовый код для этого адреса? Придется еще глубже закопаться в структуру ответа, который возвращает API."
   ],
   "metadata": {
    "collapsed": false,
    "pycharm": {
     "name": "#%% md\n"
    }
   }
  },
  {
   "cell_type": "code",
   "execution_count": 26,
   "outputs": [
    {
     "data": {
      "text/plain": "'117312'"
     },
     "execution_count": 26,
     "metadata": {},
     "output_type": "execute_result"
    }
   ],
   "source": [
    "result[0]['data']['address']['data']['postal_code']"
   ],
   "metadata": {
    "collapsed": false,
    "pycharm": {
     "name": "#%%\n"
    }
   }
  },
  {
   "cell_type": "markdown",
   "source": [
    "Отлично! Почтовый код - 117312.\n",
    "\n",
    "Структура ответа, который возвращается на запрос API, может показаться сложной (словари вложенные в словари вложенные в другие словари...а все это завернуто в лист... какая-то долма...да уж). Но если потратить немного времени, и посмотреть на то, как все устроено, и почитать документацию, то вы сможете докопаться до любого нужного значения."
   ],
   "metadata": {
    "collapsed": false,
    "pycharm": {
     "name": "#%% md\n"
    }
   }
  },
  {
   "cell_type": "markdown",
   "source": [
    "Обратите внимание, что метод \"Организация по ИНН или ОГРН\" устроен так, что в атрибуте query можно передавать как ИНН, так и ОГРН. Dadata сама определит, какой конкретно код вы передали. Попробуем получить сведения о Сбербанке по коду ОГРН (1027700132195). Структура запроса никак не меняется, но теперь в параметре query передаем ОГРН."
   ],
   "metadata": {
    "collapsed": false,
    "pycharm": {
     "name": "#%% md\n"
    }
   }
  },
  {
   "cell_type": "code",
   "execution_count": 27,
   "outputs": [
    {
     "data": {
      "text/plain": "{'value': 'ПАО СБЕРБАНК',\n 'unrestricted_value': 'ПАО СБЕРБАНК',\n 'data': {'kpp': '773601001',\n  'capital': None,\n  'invalid': None,\n  'management': {'name': 'Греф Герман Оскарович',\n   'post': 'ПРЕЗИДЕНТ, ПРЕДСЕДАТЕЛЬ ПРАВЛЕНИЯ',\n   'disqualified': None},\n  'founders': None,\n  'managers': None,\n  'predecessors': None,\n  'successors': None,\n  'branch_type': 'MAIN',\n  'branch_count': 86,\n  'source': None,\n  'qc': None,\n  'hid': '588a141bc5e17cbc976ec2d0d54149af49d5a4ca16e26ed2effafdf06841d645',\n  'type': 'LEGAL',\n  'state': {'status': 'ACTIVE',\n   'code': None,\n   'actuality_date': 1676332800000,\n   'registration_date': 677376000000,\n   'liquidation_date': None},\n  'opf': {'type': '2014',\n   'code': '12247',\n   'full': 'Публичное акционерное общество',\n   'short': 'ПАО'},\n  'name': {'full_with_opf': 'ПУБЛИЧНОЕ АКЦИОНЕРНОЕ ОБЩЕСТВО \"СБЕРБАНК РОССИИ\"',\n   'short_with_opf': 'ПАО СБЕРБАНК',\n   'latin': None,\n   'full': 'СБЕРБАНК РОССИИ',\n   'short': 'СБЕРБАНК'},\n  'inn': '7707083893',\n  'ogrn': '1027700132195',\n  'okpo': '00032537',\n  'okato': '45293554000',\n  'oktmo': '45397000000',\n  'okogu': '4100104',\n  'okfs': '41',\n  'okved': '64.19',\n  'okveds': None,\n  'authorities': None,\n  'documents': None,\n  'licenses': None,\n  'finance': None,\n  'address': {'value': 'г Москва, ул Вавилова, д 19',\n   'unrestricted_value': '117312, г Москва, Академический р-н, ул Вавилова, д 19',\n   'invalidity': None,\n   'data': {'postal_code': '117312',\n    'country': 'Россия',\n    'country_iso_code': 'RU',\n    'federal_district': 'Центральный',\n    'region_fias_id': '0c5b2444-70a0-4932-980c-b4dc0d3f02b5',\n    'region_kladr_id': '7700000000000',\n    'region_iso_code': 'RU-MOW',\n    'region_with_type': 'г Москва',\n    'region_type': 'г',\n    'region_type_full': 'город',\n    'region': 'Москва',\n    'area_fias_id': None,\n    'area_kladr_id': None,\n    'area_with_type': None,\n    'area_type': None,\n    'area_type_full': None,\n    'area': None,\n    'city_fias_id': '0c5b2444-70a0-4932-980c-b4dc0d3f02b5',\n    'city_kladr_id': '7700000000000',\n    'city_with_type': 'г Москва',\n    'city_type': 'г',\n    'city_type_full': 'город',\n    'city': 'Москва',\n    'city_area': 'Юго-западный',\n    'city_district_fias_id': None,\n    'city_district_kladr_id': None,\n    'city_district_with_type': 'Академический р-н',\n    'city_district_type': 'р-н',\n    'city_district_type_full': 'район',\n    'city_district': 'Академический',\n    'settlement_fias_id': None,\n    'settlement_kladr_id': None,\n    'settlement_with_type': None,\n    'settlement_type': None,\n    'settlement_type_full': None,\n    'settlement': None,\n    'street_fias_id': '25f8f29b-b110-40ab-a48e-9c72f5fb4331',\n    'street_kladr_id': '77000000000092400',\n    'street_with_type': 'ул Вавилова',\n    'street_type': 'ул',\n    'street_type_full': 'улица',\n    'street': 'Вавилова',\n    'stead_fias_id': None,\n    'stead_cadnum': None,\n    'stead_type': None,\n    'stead_type_full': None,\n    'stead': None,\n    'house_fias_id': '93409d8c-d8d4-4491-838f-f9aa1678b5e6',\n    'house_kladr_id': '7700000000009240170',\n    'house_cadnum': '77:06:0002008:1036',\n    'house_type': 'д',\n    'house_type_full': 'дом',\n    'house': '19',\n    'block_type': None,\n    'block_type_full': None,\n    'block': None,\n    'entrance': None,\n    'floor': None,\n    'flat_fias_id': None,\n    'flat_cadnum': None,\n    'flat_type': None,\n    'flat_type_full': None,\n    'flat': None,\n    'flat_area': None,\n    'square_meter_price': None,\n    'flat_price': None,\n    'room_fias_id': None,\n    'room_cadnum': None,\n    'room_type': None,\n    'room_type_full': None,\n    'room': None,\n    'postal_box': None,\n    'fias_id': '93409d8c-d8d4-4491-838f-f9aa1678b5e6',\n    'fias_code': '77000000000000009240170',\n    'fias_level': '8',\n    'fias_actuality_state': '0',\n    'kladr_id': '7700000000009240170',\n    'geoname_id': '524901',\n    'capital_marker': '0',\n    'okato': '45293554000',\n    'oktmo': '45397000',\n    'tax_office': '7736',\n    'tax_office_legal': '7736',\n    'timezone': 'UTC+3',\n    'geo_lat': '55.7001865',\n    'geo_lon': '37.5802234',\n    'beltway_hit': 'IN_MKAD',\n    'beltway_distance': None,\n    'metro': [{'name': 'Ленинский проспект',\n      'line': 'Калужско-Рижская',\n      'distance': 0.8},\n     {'name': 'Площадь Гагарина', 'line': 'МЦК', 'distance': 0.8},\n     {'name': 'Академическая', 'line': 'Калужско-Рижская', 'distance': 1.5}],\n    'divisions': None,\n    'qc_geo': '0',\n    'qc_complete': None,\n    'qc_house': None,\n    'history_values': None,\n    'unparsed_parts': None,\n    'source': '117312, Г.Москва, УЛ. ВАВИЛОВА, Д.19',\n    'qc': '0'}},\n  'phones': None,\n  'emails': None,\n  'ogrn_date': 1029456000000,\n  'okved_type': '2014',\n  'employee_count': None}}"
     },
     "execution_count": 27,
     "metadata": {},
     "output_type": "execute_result"
    }
   ],
   "source": [
    "result = dadata.find_by_id(\"party\", query=\"1027700132195\")\n",
    "result[0]"
   ],
   "metadata": {
    "collapsed": false,
    "pycharm": {
     "name": "#%%\n"
    }
   }
  },
  {
   "cell_type": "markdown",
   "source": [
    "Получаем тот же ответ, что и раньше. Еще при желании в параметрах запроса можно передать номер КПП (это важно, если у головной организации есть филиалы)."
   ],
   "metadata": {
    "collapsed": false,
    "pycharm": {
     "name": "#%% md\n"
    }
   }
  },
  {
   "cell_type": "code",
   "execution_count": 28,
   "outputs": [
    {
     "data": {
      "text/plain": "[{'value': 'ДАЛЬНЕВОСТОЧНЫЙ БАНК ПАО СБЕРБАНК',\n  'unrestricted_value': 'ДАЛЬНЕВОСТОЧНЫЙ БАНК ПАО СБЕРБАНК',\n  'data': {'kpp': '272143001',\n   'capital': None,\n   'invalid': None,\n   'management': None,\n   'founders': None,\n   'managers': None,\n   'predecessors': None,\n   'successors': None,\n   'branch_type': 'BRANCH',\n   'branch_count': 0,\n   'source': None,\n   'qc': None,\n   'hid': '00161d9ceb88edf8d0f988812c397feb9d3937da569113db464e168c68a6eef5',\n   'type': 'LEGAL',\n   'state': {'status': 'ACTIVE',\n    'code': None,\n    'actuality_date': 1676332800000,\n    'registration_date': None,\n    'liquidation_date': None},\n   'opf': {'type': '2014',\n    'code': '30002',\n    'full': 'Филиал юридического лица',\n    'short': 'Филиал'},\n   'name': {'full_with_opf': 'ДАЛЬНЕВОСТОЧНЫЙ БАНК ПАО СБЕРБАНК',\n    'short_with_opf': None,\n    'latin': None,\n    'full': 'ДАЛЬНЕВОСТОЧНЫЙ БАНК ПАО СБЕРБАНК',\n    'short': None},\n   'inn': '7707083893',\n   'ogrn': '1027700132195',\n   'okpo': None,\n   'okato': None,\n   'oktmo': None,\n   'okogu': None,\n   'okfs': None,\n   'okved': None,\n   'okveds': None,\n   'authorities': None,\n   'documents': None,\n   'licenses': None,\n   'finance': None,\n   'address': {'value': 'г Хабаровск, ул Гамарника, д 12',\n    'unrestricted_value': '680020, Хабаровский край, г Хабаровск, ул Гамарника, д 12',\n    'invalidity': None,\n    'data': {'postal_code': '680020',\n     'country': 'Россия',\n     'country_iso_code': 'RU',\n     'federal_district': 'Дальневосточный',\n     'region_fias_id': '7d468b39-1afa-41ec-8c4f-97a8603cb3d4',\n     'region_kladr_id': '2700000000000',\n     'region_iso_code': 'RU-KHA',\n     'region_with_type': 'Хабаровский край',\n     'region_type': 'край',\n     'region_type_full': 'край',\n     'region': 'Хабаровский',\n     'area_fias_id': None,\n     'area_kladr_id': None,\n     'area_with_type': None,\n     'area_type': None,\n     'area_type_full': None,\n     'area': None,\n     'city_fias_id': 'a4859da8-9977-4b62-8436-4e1b98c5d13f',\n     'city_kladr_id': '2700000100000',\n     'city_with_type': 'г Хабаровск',\n     'city_type': 'г',\n     'city_type_full': 'город',\n     'city': 'Хабаровск',\n     'city_area': None,\n     'city_district_fias_id': None,\n     'city_district_kladr_id': None,\n     'city_district_with_type': None,\n     'city_district_type': None,\n     'city_district_type_full': None,\n     'city_district': None,\n     'settlement_fias_id': None,\n     'settlement_kladr_id': None,\n     'settlement_with_type': None,\n     'settlement_type': None,\n     'settlement_type_full': None,\n     'settlement': None,\n     'street_fias_id': '27392ccb-9a42-48aa-99b0-a5e5b314700b',\n     'street_kladr_id': '27000001000017100',\n     'street_with_type': 'ул Гамарника',\n     'street_type': 'ул',\n     'street_type_full': 'улица',\n     'street': 'Гамарника',\n     'stead_fias_id': None,\n     'stead_cadnum': None,\n     'stead_type': None,\n     'stead_type_full': None,\n     'stead': None,\n     'house_fias_id': 'ce71bd73-5800-4a8d-a92e-de9bb701edc2',\n     'house_kladr_id': '2700000100001710055',\n     'house_cadnum': '27:23:0050101:108',\n     'house_type': 'д',\n     'house_type_full': 'дом',\n     'house': '12',\n     'block_type': None,\n     'block_type_full': None,\n     'block': None,\n     'entrance': None,\n     'floor': None,\n     'flat_fias_id': None,\n     'flat_cadnum': None,\n     'flat_type': None,\n     'flat_type_full': None,\n     'flat': None,\n     'flat_area': None,\n     'square_meter_price': None,\n     'flat_price': None,\n     'room_fias_id': None,\n     'room_cadnum': None,\n     'room_type': None,\n     'room_type_full': None,\n     'room': None,\n     'postal_box': None,\n     'fias_id': 'ce71bd73-5800-4a8d-a92e-de9bb701edc2',\n     'fias_code': '27000001000000001710055',\n     'fias_level': '8',\n     'fias_actuality_state': '0',\n     'kladr_id': '2700000100001710055',\n     'geoname_id': '2022890',\n     'capital_marker': '2',\n     'okato': '08401000000',\n     'oktmo': '08701000001',\n     'tax_office': '2721',\n     'tax_office_legal': '2721',\n     'timezone': 'UTC+10',\n     'geo_lat': '48.4700736',\n     'geo_lon': '135.077156',\n     'beltway_hit': None,\n     'beltway_distance': None,\n     'metro': None,\n     'divisions': None,\n     'qc_geo': '0',\n     'qc_complete': None,\n     'qc_house': None,\n     'history_values': None,\n     'unparsed_parts': None,\n     'source': '680020, Хабаровский край, Г. ХАБАРОВСК, УЛ. ГАМАРНИКА, Д.12',\n     'qc': '0'}},\n   'phones': None,\n   'emails': None,\n   'ogrn_date': None,\n   'okved_type': None,\n   'employee_count': None}}]"
     },
     "execution_count": 28,
     "metadata": {},
     "output_type": "execute_result"
    }
   ],
   "source": [
    "result = dadata.find_by_id(\"party\", query=\"1027700132195\", kpp=\"272143001\")\n",
    "result"
   ],
   "metadata": {
    "collapsed": false,
    "pycharm": {
     "name": "#%%\n"
    }
   }
  },
  {
   "cell_type": "markdown",
   "source": [
    "В ответ мы получили информацию о дальневосточном отделении Сбербанка. Разобравшись со структурой ответа, вы можете понять, как добраться до значений, которые вам нужны, чтобы обогатить сведения об организации."
   ],
   "metadata": {
    "collapsed": false,
    "pycharm": {
     "name": "#%% md\n"
    }
   }
  },
  {
   "cell_type": "markdown",
   "source": [
    "### 1.3. Как обработать данные по многим организациям сразу"
   ],
   "metadata": {
    "collapsed": false,
    "pycharm": {
     "name": "#%% md\n"
    }
   }
  },
  {
   "cell_type": "markdown",
   "source": [
    "Мы научились получать сведения по одной организации. Теперь хочется научиться делать то же самое для списка организаций. Самое простое — делать это в цикле. Взять список организаций и последовательно пройтись по нему. Но обычно используют другой подход.\n",
    "\n",
    "Создадим небольшой датафрейм, в который запишем ОГРН и КПП нескольких организаций."
   ],
   "metadata": {
    "collapsed": false,
    "pycharm": {
     "name": "#%% md\n"
    }
   }
  },
  {
   "cell_type": "code",
   "execution_count": 29,
   "outputs": [
    {
     "data": {
      "text/plain": "            ogrn        kpp\n0  1027301574915  732801001\n1  1026301697476  631901001\n2  1026604950338  667001001",
      "text/html": "<div>\n<style scoped>\n    .dataframe tbody tr th:only-of-type {\n        vertical-align: middle;\n    }\n\n    .dataframe tbody tr th {\n        vertical-align: top;\n    }\n\n    .dataframe thead th {\n        text-align: right;\n    }\n</style>\n<table border=\"1\" class=\"dataframe\">\n  <thead>\n    <tr style=\"text-align: right;\">\n      <th></th>\n      <th>ogrn</th>\n      <th>kpp</th>\n    </tr>\n  </thead>\n  <tbody>\n    <tr>\n      <th>0</th>\n      <td>1027301574915</td>\n      <td>732801001</td>\n    </tr>\n    <tr>\n      <th>1</th>\n      <td>1026301697476</td>\n      <td>631901001</td>\n    </tr>\n    <tr>\n      <th>2</th>\n      <td>1026604950338</td>\n      <td>667001001</td>\n    </tr>\n  </tbody>\n</table>\n</div>"
     },
     "execution_count": 29,
     "metadata": {},
     "output_type": "execute_result"
    }
   ],
   "source": [
    "import pandas as pd\n",
    "data = {'ogrn': ['1027301574915', '1026301697476', '1026604950338'], 'kpp': ['732801001', '631901001', '667001001']}\n",
    "df = pd.DataFrame(data)\n",
    "df.head()"
   ],
   "metadata": {
    "collapsed": false,
    "pycharm": {
     "name": "#%%\n"
    }
   }
  },
  {
   "cell_type": "markdown",
   "source": [
    "А теперь напишем простую функцию, которая на вход получает ОГРН и КПП организации, а в ответ с помощью API Dadata возвращает название этой организации, код муниципального образования и географические координаты (широту и долготу)."
   ],
   "metadata": {
    "collapsed": false,
    "pycharm": {
     "name": "#%% md\n"
    }
   }
  },
  {
   "cell_type": "code",
   "execution_count": 30,
   "outputs": [],
   "source": [
    "def org_enrich(ogrn: str, kpp: str=None):\n",
    "    \"\"\"Return Name, OKTMO, Latitude and Longitude of organization.\"\"\"\n",
    "    answer = dadata.find_by_id(\"party\", query=ogrn, kpp=kpp)[0]\n",
    "    return [answer['unrestricted_value'],\n",
    "            answer['data']['oktmo'],\n",
    "            answer['data']['address']['data']['geo_lat'],\n",
    "            answer['data']['address']['data']['geo_lon']]"
   ],
   "metadata": {
    "collapsed": false,
    "pycharm": {
     "name": "#%%\n"
    }
   }
  },
  {
   "cell_type": "markdown",
   "source": [
    "Тут, как и в примерах выше, мы закопались в структуру ответа API и вытащили нужные нам значения. Функция возвращает необходимые атрибуты в формате листа."
   ],
   "metadata": {
    "collapsed": false,
    "pycharm": {
     "name": "#%% md\n"
    }
   }
  },
  {
   "cell_type": "code",
   "execution_count": 31,
   "outputs": [
    {
     "data": {
      "text/plain": "['ОГАОУ МНОГОПРОФИЛЬНЫЙ ЛИЦЕЙ № 20', '73701000001', '54.3758123', '48.5908403']"
     },
     "execution_count": 31,
     "metadata": {},
     "output_type": "execute_result"
    }
   ],
   "source": [
    "org_enrich('1027301574915', '732801001')"
   ],
   "metadata": {
    "collapsed": false,
    "pycharm": {
     "name": "#%%\n"
    }
   }
  },
  {
   "cell_type": "markdown",
   "source": [
    "Теперь вернемся к датафрейму с организациями и попробуем обогатить сразу все колонки с помощью лямбда-функции и функции apply."
   ],
   "metadata": {
    "collapsed": false,
    "pycharm": {
     "name": "#%% md\n"
    }
   }
  },
  {
   "cell_type": "code",
   "execution_count": 32,
   "outputs": [
    {
     "data": {
      "text/plain": "            ogrn        kpp                                 name        oktmo  \\\n0  1027301574915  732801001     ОГАОУ МНОГОПРОФИЛЬНЫЙ ЛИЦЕЙ № 20  73701000001   \n1  1026301697476  631901001           МБОУ ШКОЛА № 3 Г.О. САМАРА  36701335000   \n2  1026604950338  667001001  ГБОУ СО \"ЕКАТЕРИНБУРГСКАЯ ШКОЛА №3\"  65701000001   \n\n      geo_lat     geo_lon  \n0  54.3758123  48.5908403  \n1  53.2359189  50.2127723  \n2  56.8455227  60.6559998  ",
      "text/html": "<div>\n<style scoped>\n    .dataframe tbody tr th:only-of-type {\n        vertical-align: middle;\n    }\n\n    .dataframe tbody tr th {\n        vertical-align: top;\n    }\n\n    .dataframe thead th {\n        text-align: right;\n    }\n</style>\n<table border=\"1\" class=\"dataframe\">\n  <thead>\n    <tr style=\"text-align: right;\">\n      <th></th>\n      <th>ogrn</th>\n      <th>kpp</th>\n      <th>name</th>\n      <th>oktmo</th>\n      <th>geo_lat</th>\n      <th>geo_lon</th>\n    </tr>\n  </thead>\n  <tbody>\n    <tr>\n      <th>0</th>\n      <td>1027301574915</td>\n      <td>732801001</td>\n      <td>ОГАОУ МНОГОПРОФИЛЬНЫЙ ЛИЦЕЙ № 20</td>\n      <td>73701000001</td>\n      <td>54.3758123</td>\n      <td>48.5908403</td>\n    </tr>\n    <tr>\n      <th>1</th>\n      <td>1026301697476</td>\n      <td>631901001</td>\n      <td>МБОУ ШКОЛА № 3 Г.О. САМАРА</td>\n      <td>36701335000</td>\n      <td>53.2359189</td>\n      <td>50.2127723</td>\n    </tr>\n    <tr>\n      <th>2</th>\n      <td>1026604950338</td>\n      <td>667001001</td>\n      <td>ГБОУ СО \"ЕКАТЕРИНБУРГСКАЯ ШКОЛА №3\"</td>\n      <td>65701000001</td>\n      <td>56.8455227</td>\n      <td>60.6559998</td>\n    </tr>\n  </tbody>\n</table>\n</div>"
     },
     "execution_count": 32,
     "metadata": {},
     "output_type": "execute_result"
    }
   ],
   "source": [
    "df[['name', 'oktmo', 'geo_lat', 'geo_lon']] = df.apply(lambda x: org_enrich(x['ogrn'], x['kpp']), axis=1, result_type='expand')\n",
    "df"
   ],
   "metadata": {
    "collapsed": false,
    "pycharm": {
     "name": "#%%\n"
    }
   }
  },
  {
   "cell_type": "markdown",
   "source": [
    "Разберем, что тут происходит. Мы явно указываем, что результат применения функции apply к каждой из строк датафрейма df мы хотим записать в колонки name, oktmo, geo_lat, geo_lon. Значение параметра axis 1 означает, что функция org_enrich будет применяться к строкам. Значение параметра result_type expand означает, что результат выполнения функции org_enrich в виде листа будет преобразовываться в колонки - как раз то, что нам надо. Внутрь функции org_enrich мы передаем два атрибута, явно указывая названия колонок, в которых хранятся коды ОГРН и КПП."
   ],
   "metadata": {
    "collapsed": false,
    "pycharm": {
     "name": "#%% md\n"
    }
   }
  },
  {
   "cell_type": "markdown",
   "source": [
    "### 1.4. ChatGPT, конечно"
   ],
   "metadata": {
    "collapsed": false,
    "pycharm": {
     "name": "#%% md\n"
    }
   }
  },
  {
   "cell_type": "markdown",
   "source": [
    "ML-модели часто тоже возвращают результат своей работы через API-интерфейсы. Подключимся к ChatGTP и попросим его продолжить предложение. Для этого нужно:\n",
    "1. Пойти на сайт https://platform.openai.com/\n",
    "2. Зарегистрироваться любым способом\n",
    "3. Открыть вкладку \"Personal\" в верхнем правом углу, и перейти на страницу \"View API keys\"\n",
    "4. Нажать на кнопку \"Create new secret key\" и сохранить ключ\n",
    "\n",
    "Также нужно установить библиотеку openai. Это такая же альтернатива библиотеке requests, как и dadata. Она упрощает работу с конкретным сервисом."
   ],
   "metadata": {
    "collapsed": false,
    "pycharm": {
     "name": "#%% md\n"
    }
   }
  },
  {
   "cell_type": "code",
   "execution_count": 1,
   "outputs": [
    {
     "name": "stdout",
     "output_type": "stream",
     "text": [
      "\n",
      "\n",
      "Образовательные траектории российских школьников в 2020 году будут зависеть от ряда факторов. В первую очередь это будет зависеть от того, какие меры применит правительство для защиты здоровья школьников и предотвращения распространения коронавируса. Возможные меры могут включать в себя переход на дистанционное обучение, использование интерактивных технологий и смешанное обучение, ограничение количества учащихся в классах и проведение дополнительных мероприятий для учащихся дома. Также могут быть введены дополнительные меры безопасности, например, регулярные исследования на коронавирус и принятие мер по предотвращению заражения, а также обязательное использование маски и соблюдение дистанции.\n"
     ]
    }
   ],
   "source": [
    "import openai\n",
    "from credentials import Credentials\n",
    "\n",
    "credentials = Credentials()\n",
    "openai.api_key = credentials.openaikey # здесь указываем секретный ключ OpenAI\n",
    "\n",
    "# Задаем тип языковой модели, которая будет использоваться\n",
    "model_engine = \"text-davinci-003\"\n",
    "# Записываем текст, который нам хочется продолжить, можно вставить любой свой\n",
    "prompt = \"Образовательные траектории российских школьников в 2020 году...\"\n",
    "\n",
    "# Тут отправляем запрос\n",
    "completion = openai.Completion.create(\n",
    "    engine=model_engine,\n",
    "    prompt=prompt,\n",
    "    max_tokens=1024,\n",
    "    n=1,\n",
    "    stop=None,\n",
    "    temperature=0.5,\n",
    ")\n",
    "\n",
    "response = completion.choices[0].text\n",
    "print(response)"
   ],
   "metadata": {
    "collapsed": false,
    "pycharm": {
     "name": "#%%\n"
    }
   }
  },
  {
   "cell_type": "markdown",
   "source": [
    "В запросе выше мы передаем разные параметры. Например, параметр temperature регулирует уровень случайности в ответе на запрос. Чем больше его значение, тем разнообразнее и менее согласованным будет ответ. В max_tokens мы контролируем длину ответа. Про другие параметры, как всегда, можно прочитать в документации."
   ],
   "metadata": {
    "collapsed": false,
    "pycharm": {
     "name": "#%% md\n"
    }
   }
  },
  {
   "cell_type": "code",
   "execution_count": null,
   "outputs": [],
   "source": [],
   "metadata": {
    "collapsed": false,
    "pycharm": {
     "name": "#%%\n"
    }
   }
  }
 ],
 "metadata": {
  "kernelspec": {
   "display_name": "Python 3",
   "language": "python",
   "name": "python3"
  },
  "language_info": {
   "codemirror_mode": {
    "name": "ipython",
    "version": 2
   },
   "file_extension": ".py",
   "mimetype": "text/x-python",
   "name": "python",
   "nbconvert_exporter": "python",
   "pygments_lexer": "ipython2",
   "version": "2.7.6"
  }
 },
 "nbformat": 4,
 "nbformat_minor": 0
}